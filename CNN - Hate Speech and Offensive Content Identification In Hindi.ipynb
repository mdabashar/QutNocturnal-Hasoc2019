{
 "cells": [
  {
   "cell_type": "markdown",
   "metadata": {},
   "source": [
    "# Import common libraries"
   ]
  },
  {
   "cell_type": "code",
   "execution_count": null,
   "metadata": {},
   "outputs": [],
   "source": [
    "# -*- coding: utf-8 -*-\n",
    "\"\"\"\n",
    "Created on Thursday September  1 15:12:54 2019\n",
    "\n",
    "@author: bashar\n",
    "\"\"\"\n",
    "\n",
    "import tensorflow as tf\n",
    "import numpy as np\n",
    "import pandas as pd\n",
    "import random as rn\n",
    "import spacy\n",
    "import re\n",
    "import html"
   ]
  },
  {
   "cell_type": "markdown",
   "metadata": {},
   "source": [
    "# Initialise Random variables and Tensor Board"
   ]
  },
  {
   "cell_type": "code",
   "execution_count": null,
   "metadata": {
    "slideshow": {
     "slide_type": "slide"
    }
   },
   "outputs": [],
   "source": [
    "#SEED = 100\n",
    "SEED = 123\n",
    "\n",
    "#reference: https://keras.io/getting-started/faq/#how-can-i-obtain-reproducible-results-using-keras-during-development\n",
    "# The below is necessary in Python 3.2.3 onwards to\n",
    "# have reproducible behavior for certain hash-based operations.\n",
    "# See these references for further details:\n",
    "# https://docs.python.org/3.4/using/cmdline.html#envvar-PYTHONHASHSEED\n",
    "# https://github.com/keras-team/keras/issues/2280#issuecomment-306959926\n",
    "\n",
    "import os\n",
    "os.environ['PYTHONHASHSEED'] = '0'\n",
    "\n",
    "# The below is necessary for starting Numpy generated random numbers\n",
    "# in a well-defined initial state.\n",
    "\n",
    "np.random.seed(SEED)\n",
    "\n",
    "# The below is necessary for starting core Python generated random numbers\n",
    "# in a well-defined state.\n",
    "\n",
    "rn.seed(SEED)\n",
    "\n",
    "# Force TensorFlow to use single thread.\n",
    "# Multiple threads are a potential source of\n",
    "# non-reproducible results.\n",
    "# For further details, see: https://stackoverflow.com/questions/42022950/which-seeds-have-to-be-set-where-to-realize-100-reproducibility-of-training-res\n",
    "\n",
    "session_conf = tf.ConfigProto(intra_op_parallelism_threads=1, inter_op_parallelism_threads=1)\n",
    "\n",
    "from keras import backend as K\n",
    "\n",
    "# The below tf.set_random_seed() will make random number generation\n",
    "# in the TensorFlow backend have a well-defined initial state.\n",
    "# For further details, see: https://www.tensorflow.org/api_docs/python/tf/set_random_seed\n",
    "tf.reset_default_graph()\n",
    "tf.set_random_seed(SEED)\n",
    "\n",
    "sess = tf.Session(graph=tf.get_default_graph(), config=session_conf)\n",
    "K.set_session(sess)\n",
    "\n",
    "# Rest of code follows ..."
   ]
  },
  {
   "cell_type": "markdown",
   "metadata": {},
   "source": [
    "# Preprocessing"
   ]
  },
  {
   "cell_type": "code",
   "execution_count": null,
   "metadata": {},
   "outputs": [],
   "source": [
    "re1 = re.compile(r' +')\n",
    "\n",
    "def textFixup(aText):\n",
    "    aText = aText.replace('#39;', \"'\").replace('amp;', '&').replace('#146;', \"'\").replace(\n",
    "        'nbsp;', ' ').replace('#36;', '$').replace('\\\\n', \"\\n\").replace('quot;', \"'\").replace(\n",
    "        '<br />', \"\\n\").replace('\\\\\"', '\"').replace('<unk>','u_n').replace(' @.@ ','.').replace(\n",
    "        ' @-@ ', '-').replace('\\\\', ' \\\\ ').replace('â€™', \"'\")\n",
    "    return re1.sub(' ', html.unescape(aText))"
   ]
  },
  {
   "cell_type": "markdown",
   "metadata": {},
   "source": [
    "### lang = 'hi'"
   ]
  },
  {
   "cell_type": "code",
   "execution_count": null,
   "metadata": {},
   "outputs": [],
   "source": [
    "#! /usr/bin/env python3.1\n",
    "''' Lightweight Hindi stemmer\n",
    "Copyright © 2010 Luís Gomes <luismsgomes@gmail.com>.\n",
    "\n",
    "Implementation of algorithm described in\n",
    "\n",
    "    A Lightweight Stemmer for Hindi\n",
    "    Ananthakrishnan Ramanathan and Durgesh D Rao\n",
    "    http://computing.open.ac.uk/Sites/EACLSouthAsia/Papers/p6-Ramanathan.pdf\n",
    "\n",
    "    @conference{ramanathan2003lightweight,\n",
    "      title={{A lightweight stemmer for Hindi}},\n",
    "      author={Ramanathan, A. and Rao, D.},\n",
    "      booktitle={Workshop on Computational Linguistics for South-Asian Languages, EACL},\n",
    "      year={2003}\n",
    "    }\n",
    "\n",
    "Ported from HindiStemmer.java, part of of Lucene.\n",
    "'''\n",
    "\n",
    "suffixes = {\n",
    "    1: [\"ो\", \"े\", \"ू\", \"ु\", \"ी\", \"ि\", \"ा\"],\n",
    "    2: [\"कर\", \"ाओ\", \"िए\", \"ाई\", \"ाए\", \"ने\", \"नी\", \"ना\", \"ते\", \"ीं\", \"ती\", \"ता\", \"ाँ\", \"ां\", \"ों\", \"ें\"],\n",
    "    3: [\"ाकर\", \"ाइए\", \"ाईं\", \"ाया\", \"ेगी\", \"ेगा\", \"ोगी\", \"ोगे\", \"ाने\", \"ाना\", \"ाते\", \"ाती\", \"ाता\", \"तीं\", \"ाओं\", \"ाएं\", \"ुओं\", \"ुएं\", \"ुआं\"],\n",
    "    4: [\"ाएगी\", \"ाएगा\", \"ाओगी\", \"ाओगे\", \"एंगी\", \"ेंगी\", \"एंगे\", \"ेंगे\", \"ूंगी\", \"ूंगा\", \"ातीं\", \"नाओं\", \"नाएं\", \"ताओं\", \"ताएं\", \"ियाँ\", \"ियों\", \"ियां\"],\n",
    "    5: [\"ाएंगी\", \"ाएंगे\", \"ाऊंगी\", \"ाऊंगा\", \"ाइयाँ\", \"ाइयों\", \"ाइयां\"],\n",
    "}\n",
    "\n",
    "def hi_stem(word):\n",
    "    for L in 5, 4, 3, 2, 1:\n",
    "        if len(word) > L + 1:\n",
    "            for suf in suffixes[L]:\n",
    "                if word.endswith(suf):\n",
    "                    return word[:-L]\n",
    "    return word\n",
    "\n",
    "hi_nlp = spacy.load(\"xx_ent_wiki_sm\")"
   ]
  },
  {
   "cell_type": "code",
   "execution_count": null,
   "metadata": {},
   "outputs": [],
   "source": [
    "def preprocess_aTweet(tweet):\n",
    "    tweet = tweet.lower()\n",
    "    tweet = textFixup(tweet)\n",
    "    \n",
    "    tokens = [token.lemma_ for token in hi_nlp(tweet)]\n",
    "    tokens = [hi_stem(t) for t in tokens]\n",
    "    \n",
    "    return ' '.join(tokens)"
   ]
  },
  {
   "cell_type": "markdown",
   "metadata": {},
   "source": [
    "# Loading Data"
   ]
  },
  {
   "cell_type": "code",
   "execution_count": null,
   "metadata": {},
   "outputs": [],
   "source": [
    "base = 'C:\\\\Hasoc2019.github.io\\\\TrainingDataset\\\\'\n",
    "\n",
    "task = 'task1_s1.csv' # set task name here\n",
    "testset_name = '_val_' # testset name here\n",
    "\n",
    "dataset_name = 'hindi_dataset'\n",
    "    \n",
    "base += dataset_name+'\\\\'\n",
    "\n",
    "print(base)\n",
    "print(dataset_name+'_train_'+task)\n",
    "print(dataset_name+testset_name+task)"
   ]
  },
  {
   "cell_type": "code",
   "execution_count": null,
   "metadata": {},
   "outputs": [],
   "source": [
    "def load_data_and_labels_csv(fileLoc):\n",
    "    examples = []\n",
    "    labels = []\n",
    "    df = pd.read_csv(fileLoc)\n",
    "    for i in df.index:\n",
    "        examples.append(preprocess_aTweet(df['text'][i]))\n",
    "        if int(df['label'][i])==1:\n",
    "            labels.append(1)\n",
    "        elif int(df['label'][i])==0:\n",
    "            labels.append(0)\n",
    "    return examples, labels\n",
    "    \n",
    "X_train, y_train = load_data_and_labels_csv(base+dataset_name+'_train_'+task)\n",
    "\n",
    "X_test, y_test = load_data_and_labels_csv(base+dataset_name+testset_name+task)\n",
    "\n",
    "#Xtrain = np.array(X_train)\n",
    "#Xtest = np.array(X_test)\n",
    "\n",
    "ytrain = np.array(y_train)\n",
    "ytest = np.array(y_test)"
   ]
  },
  {
   "cell_type": "markdown",
   "metadata": {},
   "source": [
    "# Transforming data suitable for model format"
   ]
  },
  {
   "cell_type": "code",
   "execution_count": null,
   "metadata": {},
   "outputs": [],
   "source": [
    "from keras.preprocessing.text import Tokenizer\n",
    "from keras.preprocessing.sequence import pad_sequences\n",
    "num_words = 100000\n",
    "tokenizer = Tokenizer(num_words=num_words)\n",
    "tokenizer.fit_on_texts(X_train)\n",
    "xtrain = tokenizer.texts_to_sequences(X_train)\n",
    "maxlen = max(map(lambda x: len(x),xtrain))\n",
    "xtrain = pad_sequences(xtrain, maxlen=maxlen)\n",
    "\n",
    "xtest = tokenizer.texts_to_sequences(X_test)\n",
    "xtest = pad_sequences(xtest, maxlen=maxlen)"
   ]
  },
  {
   "cell_type": "markdown",
   "metadata": {},
   "source": [
    "# Loading word embedding and mapping data to that word embedding"
   ]
  },
  {
   "cell_type": "code",
   "execution_count": null,
   "metadata": {},
   "outputs": [],
   "source": [
    "from gensim.models import KeyedVectors\n",
    "model_ug_cbow = KeyedVectors.load('C:\\\\Hasoc2019.github.io\\\\Word2VecModels\\\\hi\\\\vectors.txt')\n",
    "\n",
    "embeddings_index = {}\n",
    "for w in model_ug_cbow.wv.vocab.keys():\n",
    "    embeddings_index[w] = model_ug_cbow.wv[w]\n",
    "\n",
    "embedding_matrix = np.zeros((num_words, 200))\n",
    "for word, i in tokenizer.word_index.items():\n",
    "    if i >= num_words:\n",
    "        continue\n",
    "    embedding_vector = embeddings_index.get(word)\n",
    "    if embedding_vector is not None:\n",
    "        embedding_matrix[i] = embedding_vector"
   ]
  },
  {
   "cell_type": "markdown",
   "metadata": {},
   "source": [
    "# Creating CNN model and training it for 10 epoc"
   ]
  },
  {
   "cell_type": "code",
   "execution_count": null,
   "metadata": {},
   "outputs": [],
   "source": [
    "from keras.layers import Dense, Dropout\n",
    "from keras.layers.embeddings import Embedding\n",
    "from keras.layers import Conv1D, GlobalMaxPooling1D\n",
    "from keras.layers import Input, concatenate, Activation\n",
    "from keras.models import Model\n",
    "\n",
    "def create_cnn_model():\n",
    "    tweet_input = Input(shape=(maxlen,), dtype='int32')\n",
    "    \n",
    "    \n",
    "    print('loading word vectors for lang is hi')\n",
    "    tweet_encoder = Embedding(num_words, 200, weights=[embedding_matrix], input_length=maxlen, trainable=True)(tweet_input)\n",
    "        \n",
    "    tweet_encoder = Dropout(0.5)(tweet_encoder)\n",
    "    \n",
    "    bigram_branch = Conv1D(filters=128, kernel_size=3, padding='valid', activation='relu', strides=1)(tweet_encoder)\n",
    "    bigram_branch = GlobalMaxPooling1D()(bigram_branch)\n",
    "    bigram_branch = Dropout(0.5)(bigram_branch)\n",
    "    \n",
    "    trigram_branch = Conv1D(filters=256, kernel_size=4, padding='valid', activation='relu', strides=1)(tweet_encoder)\n",
    "    trigram_branch = GlobalMaxPooling1D()(trigram_branch)\n",
    "    trigram_branch = Dropout(0.2)(trigram_branch)\n",
    "    \n",
    "    fourgram_branch = Conv1D(filters=512, kernel_size=5, padding='valid', activation='relu', strides=1)(tweet_encoder)\n",
    "    fourgram_branch = GlobalMaxPooling1D()(fourgram_branch)\n",
    "    fourgram_branch = Dropout(0.2)(fourgram_branch)\n",
    "    \n",
    "    merged = concatenate([bigram_branch, trigram_branch, fourgram_branch], axis=1)\n",
    "\n",
    "    merged = Dense(256, activation='relu')(merged)\n",
    "    merged = Dropout(0.5)(merged)\n",
    "    \n",
    "    merged = Dense(1)(merged)\n",
    "    output = Activation('sigmoid')(merged)\n",
    "    \n",
    "    model = Model(inputs=[tweet_input], outputs=[output])\n",
    "    model.compile(loss='binary_crossentropy', optimizer='adam', metrics=['accuracy'])\n",
    "    #model.summary()\n",
    "    return model\n",
    "\n",
    "cnn_model = create_cnn_model()\n",
    "cnn_model.fit(xtrain, ytrain, epochs=10, batch_size=32, verbose=3)"
   ]
  },
  {
   "cell_type": "markdown",
   "metadata": {},
   "source": [
    "# Evaluating the model with test dataset"
   ]
  },
  {
   "cell_type": "code",
   "execution_count": null,
   "metadata": {
    "scrolled": true
   },
   "outputs": [],
   "source": [
    "from sklearn.metrics import cohen_kappa_score\n",
    "from sklearn.metrics import roc_curve, auc, roc_auc_score\n",
    "from sklearn.metrics import classification_report\n",
    "\n",
    "p = cnn_model.predict(xtest,verbose=1)\n",
    "#p = np.mean([p1], axis=0)\n",
    "\n",
    "#p2 = lstm_model.predict(xtest,verbose=1)\n",
    "#p = np.mean([p2], axis=0)\n",
    "\n",
    "predicted = [int(round(x[0])) for x in p]\n",
    "predicted = np.array(predicted)\n",
    "actual = ytest\n",
    "\n",
    "tp = np.count_nonzero(predicted * actual)\n",
    "tn = np.count_nonzero((predicted - 1) * (actual - 1))\n",
    "fp = np.count_nonzero(predicted * (actual - 1))\n",
    "fn = np.count_nonzero((predicted - 1) * actual)\n",
    "\n",
    "# print('True Positive\\t' + str(tp))\n",
    "# print('True Negative\\t' + str(tn))\n",
    "# print('False Positive\\t' + str(fp))\n",
    "# print('False Negative\\t' + str(fn))\n",
    "\n",
    "accuracy = (tp + tn) / (tp + fp + fn + tn)\n",
    "precision = tp / (tp + fp)\n",
    "recall = tp / (tp + fn)\n",
    "fmeasure = (2 * precision * recall) / (precision + recall)\n",
    "cohen_kappa_score = cohen_kappa_score(predicted, actual)\n",
    "false_positive_rate, true_positive_rate, thresholds = roc_curve(actual, predicted)\n",
    "auc_val = auc(false_positive_rate, true_positive_rate)\n",
    "roc_auc_val = roc_auc_score(actual, predicted)\n",
    "\n",
    "# print('Accuracy\\t' + str(accuracy))\n",
    "# print('Precision\\t' + str(precision))\n",
    "# print('Recall\\t' + str(recall))\n",
    "# print('f-measure\\t' + str(fmeasure))\n",
    "# print('cohen_kappa_score\\t' + str(cohen_kappa_score))\n",
    "# print('auc\\t' + str(auc_val))\n",
    "# print('roc_auc\\t' + str(roc_auc_val))"
   ]
  },
  {
   "cell_type": "code",
   "execution_count": null,
   "metadata": {},
   "outputs": [],
   "source": [
    "model_name = 'CNN'"
   ]
  },
  {
   "cell_type": "code",
   "execution_count": null,
   "metadata": {},
   "outputs": [],
   "source": [
    "import datetime\n",
    "now = datetime.datetime.now()\n",
    "\n",
    "out_string = '=========='+str(now)+'==============\\n'\n",
    "#out_string += 'Language:\\t'+ lang+'\\n'\n",
    "out_string += 'Dataset:\\t' + dataset_name + '\\n'\n",
    "out_string += 'Task:\\t' + task + '\\n'\n",
    "out_string += str('Model Name:\\t' + model_name+'\\n')\n",
    "out_string += '-------------------------------------------------' + '\\n'\n",
    "\n",
    "out_string += 'Total Samples:\\t' + str(len(actual)) + '\\n'\n",
    "out_string += 'Positive Samples:\\t' + str(sum(actual)) + '\\n'\n",
    "out_string += 'Negative Samples:\\t' + str(len(actual)-sum(actual)) + '\\n'\n",
    "\n",
    "out_string += 'True Positive:\\t' + str(tp) + '\\n'\n",
    "out_string += 'True Negative:\\t' + str(tn) + '\\n'\n",
    "out_string += 'False Positive:\\t' + str(fp) + '\\n'\n",
    "out_string += 'False Negative:\\t' + str(fn) + '\\n'\n",
    "\n",
    "out_string += 'Accuracy:\\t' + str(accuracy) + '\\n'\n",
    "out_string += 'Precision:\\t' + str(precision) + '\\n'\n",
    "out_string += 'Recall:\\t' + str(recall) + '\\n'\n",
    "out_string += 'F-measure:\\t' + str(fmeasure) + '\\n'\n",
    "out_string += 'Cohen_Kappa_Score:\\t' + str(cohen_kappa_score) + '\\n'\n",
    "out_string += 'AUC:\\t' + str(auc_val) + '\\n'\n",
    "out_string += 'ROC_AUC:\\t' + str(roc_auc_val) + '\\n'\n",
    "out_string += '\\n'\n",
    "out_string += classification_report(actual, predicted)\n",
    "out_string += '\\n'\n",
    "print(out_string)\n",
    "with open(model_name+'.txt', 'a+') as FO:\n",
    "    FO.write(out_string)"
   ]
  }
 ],
 "metadata": {
  "kernelspec": {
   "display_name": "Python 3",
   "language": "python",
   "name": "python3"
  },
  "language_info": {
   "codemirror_mode": {
    "name": "ipython",
    "version": 3
   },
   "file_extension": ".py",
   "mimetype": "text/x-python",
   "name": "python",
   "nbconvert_exporter": "python",
   "pygments_lexer": "ipython3",
   "version": "3.7.3"
  }
 },
 "nbformat": 4,
 "nbformat_minor": 2
}
